{
 "cells": [
  {
   "cell_type": "code",
   "execution_count": null,
   "id": "f2b02105",
   "metadata": {},
   "outputs": [],
   "source": [
    "# A Python program to\n",
    "# demonstrate defining\n",
    "# a class\n",
    "\n",
    "class Parrot():\n",
    "    pass"
   ]
  },
  {
   "cell_type": "code",
   "execution_count": 2,
   "id": "487ca1c3",
   "metadata": {},
   "outputs": [
    {
     "name": "stdout",
     "output_type": "stream",
     "text": [
      "mammal\n",
      "I'm a mammal\n",
      "I'm a dog\n"
     ]
    }
   ],
   "source": [
    "# Python program to\n",
    "# demonstrate instantiating\n",
    "# a class\n",
    "\n",
    "\n",
    "class Dog():\n",
    "\n",
    "    # A simple class\n",
    "    # attribute\n",
    "    attr1 = \"mammal\"\n",
    "    attr2 = \"dog\"\n",
    "\n",
    "    # A class method\n",
    "    def fun(self):\n",
    "        print(\"I'm a\", self.attr1)\n",
    "        print(\"I'm a\", self.attr2)\n",
    "\n",
    "# Object instantiation\n",
    "Rodger = Dog()\n",
    "\n",
    "# Accessing class attributes\n",
    "# and method through objects\n",
    "\n",
    "print(Rodger.attr1)\n",
    "Rodger.fun()\n"
   ]
  },
  {
   "cell_type": "code",
   "execution_count": 3,
   "id": "1a0b06ad",
   "metadata": {},
   "outputs": [
    {
     "name": "stdout",
     "output_type": "stream",
     "text": [
      "Address of self =  1860401118048\n",
      "Address of class object =  1860401118048\n"
     ]
    }
   ],
   "source": [
    "# It is clearly seen that self and obj is referring to the same object\n",
    "\n",
    "class _check_:\n",
    "    def __init__(self):\n",
    "        print(\"Address of self = \",id(self))\n",
    "\n",
    "obj = _check_()\n",
    "print(\"Address of class object = \",id(obj))\n"
   ]
  },
  {
   "cell_type": "code",
   "execution_count": 8,
   "id": "8c8c99f9",
   "metadata": {},
   "outputs": [
    {
     "ename": "TypeError",
     "evalue": "car.__init__() takes 3 positional arguments but 4 were given",
     "output_type": "error",
     "traceback": [
      "\u001b[31m---------------------------------------------------------------------------\u001b[39m",
      "\u001b[31mTypeError\u001b[39m                                 Traceback (most recent call last)",
      "\u001b[36mCell\u001b[39m\u001b[36m \u001b[39m\u001b[32mIn[8]\u001b[39m\u001b[32m, line 15\u001b[39m\n\u001b[32m     11\u001b[39m         \u001b[38;5;28mprint\u001b[39m(\u001b[33m\"\u001b[39m\u001b[33mModel is\u001b[39m\u001b[33m\"\u001b[39m, \u001b[38;5;28mself\u001b[39m.model )\n\u001b[32m     12\u001b[39m         \u001b[38;5;28mprint\u001b[39m(\u001b[33m\"\u001b[39m\u001b[33mcolor is\u001b[39m\u001b[33m\"\u001b[39m, \u001b[38;5;28mself\u001b[39m.color )\n\u001b[32m---> \u001b[39m\u001b[32m15\u001b[39m toyota = \u001b[43mcar\u001b[49m\u001b[43m(\u001b[49m\u001b[33;43m\"\u001b[39;49m\u001b[33;43mCorolla\u001b[39;49m\u001b[33;43m\"\u001b[39;49m\u001b[43m,\u001b[49m\u001b[43m \u001b[49m\u001b[33;43m\"\u001b[39;49m\u001b[33;43mgreen\u001b[39;49m\u001b[33;43m\"\u001b[39;49m\u001b[43m,\u001b[49m\u001b[43m \u001b[49m\u001b[32;43m2009\u001b[39;49m\u001b[43m)\u001b[49m\n\u001b[32m     16\u001b[39m kia = car(\u001b[33m\"\u001b[39m\u001b[33mKia Cerato\u001b[39m\u001b[33m\"\u001b[39m, \u001b[33m\"\u001b[39m\u001b[33mgreen\u001b[39m\u001b[33m\"\u001b[39m, \u001b[32m2020\u001b[39m, \u001b[33m\"\u001b[39m\u001b[33mAutomatic\u001b[39m\u001b[33m\"\u001b[39m)\n\u001b[32m     18\u001b[39m toyota.show() \u001b[38;5;66;03m# same output as car.show(toyota)\u001b[39;00m\n",
      "\u001b[31mTypeError\u001b[39m: car.__init__() takes 3 positional arguments but 4 were given"
     ]
    }
   ],
   "source": [
    "# Another example using SELF\n",
    "\n",
    "class car():\n",
    "\n",
    "    # init method or constructor\n",
    "    def __init__(self, model, color):\n",
    "        self.model = model\n",
    "        self.color = color\n",
    "\n",
    "    def show(self):\n",
    "        print(\"Model is\", self.model )\n",
    "        print(\"color is\", self.color )\n",
    "\n",
    "\n",
    "toyota = car(\"Corolla\", \"green\", 2009)\n",
    "kia = car(\"Kia Cerato\", \"green\", 2020, \"Automatic\")\n",
    "\n",
    "toyota.show() # same output as car.show(toyota)\n",
    "kia.show() # same output as car.show(kia)\n",
    "\n"
   ]
  },
  {
   "cell_type": "code",
   "execution_count": null,
   "id": "cca3fac6",
   "metadata": {},
   "outputs": [],
   "source": [
    "  "
   ]
  }
 ],
 "metadata": {
  "kernelspec": {
   "display_name": "Python 3",
   "language": "python",
   "name": "python3"
  },
  "language_info": {
   "codemirror_mode": {
    "name": "ipython",
    "version": 3
   },
   "file_extension": ".py",
   "mimetype": "text/x-python",
   "name": "python",
   "nbconvert_exporter": "python",
   "pygments_lexer": "ipython3",
   "version": "3.13.1"
  }
 },
 "nbformat": 4,
 "nbformat_minor": 5
}
