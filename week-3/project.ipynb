{
 "cells": [
  {
   "cell_type": "code",
   "execution_count": 2,
   "metadata": {},
   "outputs": [
    {
     "name": "stdout",
     "output_type": "stream",
     "text": [
      "\n",
      "Female table\n",
      "(Name     |Age|Height|Score)\n",
      "(Evelyn   |17 |5.5   |80   )\n",
      "(Jessica  |16 |6.0   |85   )\n",
      "(Somto    |17 |5.4   |70   )\n",
      "(Edith    |18 |5.9   |60   )\n",
      "(Liza     |16 |5.6   |76   )\n",
      "(Madonna  |18 |5.5   |66   )\n",
      "(Waje     |17 |6.1   |87   )\n",
      "(Tola     |20 |6.0   |95   )\n",
      "(Aisha    |19 |5.7   |50   )\n",
      "(Latifa   |17 |5.5   |49   )\n",
      " \n",
      "Male table\n",
      "(Name     |Age|Height|Score)\n",
      "(Chinedu  |19 |5.7   |74   )\n",
      "(Liam     |16 |5.9   |87   )\n",
      "(Wale     |18 |5.8   |75   )\n",
      "(Gbenga   |17 |6.1   |68   )\n",
      "(Abiola   |20 |5.9   |66   )\n",
      "(Kola     |19 |5.5   |78   )\n",
      "(Kunle    |16 |6.1   |87   )\n",
      "(George   |18 |5.4   |98   )\n",
      "(Thomas   |17 |5.8   |54   )\n",
      "(Wesley   |19 |5.7   |60   )\n",
      "\n"
     ]
    }
   ],
   "source": [
    "female_table = '''\n",
    "Female table\n",
    "(Name     |Age|Height|Score)\n",
    "(Evelyn   |17 |5.5   |80   )\n",
    "(Jessica  |16 |6.0   |85   )\n",
    "(Somto    |17 |5.4   |70   )\n",
    "(Edith    |18 |5.9   |60   )\n",
    "(Liza     |16 |5.6   |76   )\n",
    "(Madonna  |18 |5.5   |66   )\n",
    "(Waje     |17 |6.1   |87   )\n",
    "(Tola     |20 |6.0   |95   )\n",
    "(Aisha    |19 |5.7   |50   )\n",
    "(Latifa   |17 |5.5   |49   )\n",
    "'''\n",
    "male_table = '''\n",
    "Male table\n",
    "(Name     |Age|Height|Score)\n",
    "(Chinedu  |19 |5.7   |74   )\n",
    "(Liam     |16 |5.9   |87   )\n",
    "(Wale     |18 |5.8   |75   )\n",
    "(Gbenga   |17 |6.1   |68   )\n",
    "(Abiola   |20 |5.9   |66   )\n",
    "(Kola     |19 |5.5   |78   )\n",
    "(Kunle    |16 |6.1   |87   )\n",
    "(George   |18 |5.4   |98   )\n",
    "(Thomas   |17 |5.8   |54   )\n",
    "(Wesley   |19 |5.7   |60   )\n",
    "'''\n",
    "print(female_table, male_table)\n"
   ]
  },
  {
   "cell_type": "code",
   "execution_count": 1,
   "metadata": {},
   "outputs": [
    {
     "name": "stdout",
     "output_type": "stream",
     "text": [
      "Welcome to Izifin Technology Staff Dashboard\n",
      "Staff not eligible for Annual Tax Revenue\n"
     ]
    }
   ],
   "source": [
    "print('Welcome to Izifin Technology Staff Dashboard')\n",
    "name = input('Staff Name: ')\n",
    "age = input('Staff Age: ')\n",
    "years_worked = input('Number of years worked: ')\n",
    "annual_tax_revenue = 0\n",
    "\n",
    "if int(age) >= 55 and int(years_worked) > 25:\n",
    "    annual_tax_revenue = 5600000\n",
    "    print(f\"Annual tax Revenue for {name} is {annual_tax_revenue}\")\n",
    "elif int(age) < 55 and int(years_worked) <= 25:\n",
    "    print(f\"Staff not eligible for Annual Tax Revenue\") \n",
    "    \n",
    "elif int(age) >= 45 and int(years_worked) > 20:\n",
    "    annual_tax_revenue = 4480000\n",
    "    print(f\"Annual tax Revenue for {name} is {annual_tax_revenue}\")\n",
    "elif int(age) < 45 and int(years_worked) <= 20:\n",
    "    print(f\"Staff not eligible for Annual Tax Revenue\")     \n",
    "    \n",
    "elif int(age) >= 35 and int(years_worked) > 10:\n",
    "    annual_tax_revenue = 1500000\n",
    "    print(f\"Annual tax Revenue for {name} is {annual_tax_revenue}\")\n",
    "elif int(age) < 35 and int(years_worked) < 10:\n",
    "    annual_tax_revenue = 550000\n",
    "    print(f\"Annual tax Revenue for {name} is {annual_tax_revenue}\")     \n",
    "     \n",
    "    "
   ]
  }
 ],
 "metadata": {
  "kernelspec": {
   "display_name": "Python 3",
   "language": "python",
   "name": "python3"
  },
  "language_info": {
   "codemirror_mode": {
    "name": "ipython",
    "version": 3
   },
   "file_extension": ".py",
   "mimetype": "text/x-python",
   "name": "python",
   "nbconvert_exporter": "python",
   "pygments_lexer": "ipython3",
   "version": "3.13.1"
  }
 },
 "nbformat": 4,
 "nbformat_minor": 2
}
