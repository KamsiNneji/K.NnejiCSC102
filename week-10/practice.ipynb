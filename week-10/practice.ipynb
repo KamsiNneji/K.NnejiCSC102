{
 "cells": [
  {
   "cell_type": "code",
   "execution_count": 1,
   "id": "213e3234",
   "metadata": {},
   "outputs": [
    {
     "name": "stdout",
     "output_type": "stream",
     "text": [
      "Segun Da-Silver False\n",
      "Omotayo Ayeni True\n"
     ]
    }
   ],
   "source": [
    "class Person:\n",
    "    def __init__(self, name):\n",
    "        self.name = name\n",
    "\n",
    "    def getname(self):\n",
    "        return self.name\n",
    "\n",
    "    def isEmployee(self):\n",
    "        return False\n",
    "\n",
    "class Employee(Person):\n",
    "    def isEmployee(self):\n",
    "        return True\n",
    "\n",
    "emp = Person(\"Segun Da-Silver\")\n",
    "print(emp.getname(), emp.isEmployee())\n",
    "\n",
    "emp = Employee(\"Omotayo Ayeni\")\n",
    "print(emp.getname(), emp.isEmployee())\n"
   ]
  },
  {
   "cell_type": "code",
   "execution_count": 2,
   "id": "b12f0a0d",
   "metadata": {},
   "outputs": [
    {
     "name": "stdout",
     "output_type": "stream",
     "text": [
      "Name: Adedoyin Adeniji\n",
      "ID No.: 886012\n",
      "Salary: 200000\n",
      "Post: Intern\n"
     ]
    }
   ],
   "source": [
    "class Person:\n",
    "    def __init__(self, name, idnumber):\n",
    "        self.name = name\n",
    "        self.idnumber = idnumber\n",
    "\n",
    "    def display(self):\n",
    "        print(\"Name:\", self.name)\n",
    "        print(\"ID No.:\", self.idnumber)\n",
    "\n",
    "class Employee(Person):\n",
    "    def __init__(self, name, idnumber, salary, post):\n",
    "        super().__init__(name, idnumber)\n",
    "        self.salary = salary\n",
    "        self.post = post\n",
    "\n",
    "    def display(self):\n",
    "        super().display()\n",
    "        print(\"Salary:\", self.salary)\n",
    "        print(\"Post:\", self.post)\n",
    "\n",
    "a = Employee(\"Adedoyin Adeniji\", 886012, 200000, \"Intern\")\n",
    "a.display()\n"
   ]
  },
  {
   "cell_type": "code",
   "execution_count": 3,
   "id": "6c90ddf1",
   "metadata": {},
   "outputs": [
    {
     "name": "stdout",
     "output_type": "stream",
     "text": [
      "Emmanuel Abbah\n"
     ]
    }
   ],
   "source": [
    "class A:\n",
    "    def __init__(self, n='Emmanuel Abbah'):\n",
    "        self.name = n\n",
    "\n",
    "class B(A):\n",
    "    def __init__(self, n, roll):\n",
    "        super().__init__(n)\n",
    "        self.roll = roll\n",
    "\n",
    "project = B(\"Emmanuel Abbah\", 23)\n",
    "print(project.name)\n"
   ]
  },
  {
   "cell_type": "code",
   "execution_count": 4,
   "id": "0b31bbec",
   "metadata": {},
   "outputs": [
    {
     "name": "stdout",
     "output_type": "stream",
     "text": [
      "This function is in parent class.\n",
      "This function is in child class.\n"
     ]
    }
   ],
   "source": [
    "class Parent:\n",
    "    def func1(self):\n",
    "        print(\"This function is in parent class.\")\n",
    "\n",
    "class Child(Parent):\n",
    "    def func2(self):\n",
    "        print(\"This function is in child class.\")\n",
    "\n",
    "obj = Child()\n",
    "obj.func1()\n",
    "obj.func2()\n"
   ]
  },
  {
   "cell_type": "code",
   "execution_count": 5,
   "id": "a7e12cf5",
   "metadata": {},
   "outputs": [
    {
     "name": "stdout",
     "output_type": "stream",
     "text": [
      "Mother: Caroline Aina\n",
      "Father: Paul Abiodun\n"
     ]
    }
   ],
   "source": [
    "class Mother:\n",
    "    def __init__(self):\n",
    "        self.mothername = \"Caroline Aina\"\n",
    "\n",
    "    def mother(self):\n",
    "        print(\"Mother:\", self.mothername)\n",
    "\n",
    "class Father:\n",
    "    def __init__(self):\n",
    "        self.fathername = \"Paul Abiodun\"\n",
    "\n",
    "    def father(self):\n",
    "        print(\"Father:\", self.fathername)\n",
    "\n",
    "class Son(Mother, Father):\n",
    "    def __init__(self):\n",
    "        Mother.__init__(self)\n",
    "        Father.__init__(self)\n",
    "\n",
    "s1 = Son()\n",
    "s1.mother()\n",
    "s1.father()\n"
   ]
  },
  {
   "cell_type": "code",
   "execution_count": 6,
   "id": "3877b74c",
   "metadata": {},
   "outputs": [
    {
     "name": "stdout",
     "output_type": "stream",
     "text": [
      "Grandfather name: Adeoke\n",
      "Father name: Abiodun\n",
      "Son name: Gbenga\n"
     ]
    }
   ],
   "source": [
    "class Grandfather:\n",
    "    def __init__(self, grandfathername):\n",
    "        self.grandfathername = grandfathername\n",
    "\n",
    "class Father(Grandfather):\n",
    "    def __init__(self, fathername, grandfathername):\n",
    "        super().__init__(grandfathername)\n",
    "        self.fathername = fathername\n",
    "\n",
    "class Son(Father):\n",
    "    def __init__(self, sonname, fathername, grandfathername):\n",
    "        super().__init__(fathername, grandfathername)\n",
    "        self.sonname = sonname\n",
    "\n",
    "    def print_name(self):\n",
    "        print('Grandfather name:', self.grandfathername)\n",
    "        print(\"Father name:\", self.fathername)\n",
    "        print(\"Son name:\", self.sonname)\n",
    "\n",
    "s1 = Son(\"Gbenga\", \"Abiodun\", \"Adeoke\")\n",
    "s1.print_name()\n"
   ]
  },
  {
   "cell_type": "code",
   "execution_count": 7,
   "id": "ae6a9a6a",
   "metadata": {},
   "outputs": [
    {
     "name": "stdout",
     "output_type": "stream",
     "text": [
      "This function is in parent class.\n",
      "This function is in child 1.\n",
      "This function is in parent class.\n",
      "This function is in child 2.\n"
     ]
    }
   ],
   "source": [
    "class Parent:\n",
    "    def func1(self):\n",
    "        print(\"This function is in parent class.\")\n",
    "\n",
    "class Child1(Parent):\n",
    "    def func2(self):\n",
    "        print(\"This function is in child 1.\")\n",
    "\n",
    "class Child2(Parent):\n",
    "    def func3(self):\n",
    "        print(\"This function is in child 2.\")\n",
    "\n",
    "object1 = Child1()\n",
    "object2 = Child2()\n",
    "\n",
    "object1.func1()\n",
    "object1.func2()\n",
    "object2.func1()\n",
    "object2.func3()\n"
   ]
  },
  {
   "cell_type": "code",
   "execution_count": 8,
   "id": "98b56672",
   "metadata": {},
   "outputs": [
    {
     "name": "stdout",
     "output_type": "stream",
     "text": [
      "This function is in school.\n",
      "This function is in student 1.\n",
      "This function is in student 2.\n",
      "This function is in student 3.\n"
     ]
    }
   ],
   "source": [
    "class School:\n",
    "    def func1(self):\n",
    "        print(\"This function is in school.\")\n",
    "\n",
    "class Student1(School):\n",
    "    def func2(self):\n",
    "        print(\"This function is in student 1.\")\n",
    "\n",
    "class Student2(School):\n",
    "    def func3(self):\n",
    "        print(\"This function is in student 2.\")\n",
    "\n",
    "class Student3(Student1, Student2):\n",
    "    def func4(self):\n",
    "        print(\"This function is in student 3.\")\n",
    "\n",
    "object = Student3()\n",
    "object.func1()\n",
    "object.func2()\n",
    "object.func3()\n",
    "object.func4()\n"
   ]
  },
  {
   "cell_type": "code",
   "execution_count": 9,
   "id": "b547284e",
   "metadata": {},
   "outputs": [
    {
     "name": "stdout",
     "output_type": "stream",
     "text": [
      "30\n",
      "7\n"
     ]
    }
   ],
   "source": [
    "print(len(\"Department of Computer Science\"))\n",
    "print(len([10, 20, 30, 40, 50, 60, 70]))\n"
   ]
  },
  {
   "cell_type": "code",
   "execution_count": 10,
   "id": "0e60b113",
   "metadata": {},
   "outputs": [
    {
     "name": "stdout",
     "output_type": "stream",
     "text": [
      "5\n",
      "9\n"
     ]
    }
   ],
   "source": [
    "def add(x, y, z=0):\n",
    "    return x + y + z\n",
    "\n",
    "print(add(2, 3))\n",
    "print(add(2, 3, 4))\n"
   ]
  },
  {
   "cell_type": "code",
   "execution_count": 11,
   "id": "76feadf8",
   "metadata": {},
   "outputs": [
    {
     "name": "stdout",
     "output_type": "stream",
     "text": [
      "Lagos is the capital of Nigeria.\n",
      "English is the official language of Nigeria.\n",
      "Nigeria is the giant of Africa.\n",
      "Lome is the capital of Togo.\n",
      "French is the primary language of Togo.\n",
      "Togo is known for its palm-lined beaches and hilltop villages.\n"
     ]
    }
   ],
   "source": [
    "class Nigeria:\n",
    "    def capital(self):\n",
    "        print(\"Lagos is the capital of Nigeria.\")\n",
    "\n",
    "    def language(self):\n",
    "        print(\"English is the official language of Nigeria.\")\n",
    "\n",
    "    def type(self):\n",
    "        print(\"Nigeria is the giant of Africa.\")\n",
    "\n",
    "class Togo:\n",
    "    def capital(self):\n",
    "        print(\"Lome is the capital of Togo.\")\n",
    "\n",
    "    def language(self):\n",
    "        print(\"French is the primary language of Togo.\")\n",
    "\n",
    "    def type(self):\n",
    "        print(\"Togo is known for its palm-lined beaches and hilltop villages.\")\n",
    "\n",
    "obj_naija = Nigeria()\n",
    "obj_togo = Togo()\n",
    "\n",
    "for country in (obj_naija, obj_togo):\n",
    "    country.capital()\n",
    "    country.language()\n",
    "    country.type()\n"
   ]
  },
  {
   "cell_type": "code",
   "execution_count": 12,
   "id": "c5243ad4",
   "metadata": {},
   "outputs": [
    {
     "name": "stdout",
     "output_type": "stream",
     "text": [
      "There are many types of birds.\n",
      "Most of the birds can fly but some cannot.\n",
      "There are many types of birds.\n",
      "Sparrows can fly.\n",
      "There are many types of birds.\n",
      "Ostriches cannot fly.\n"
     ]
    }
   ],
   "source": [
    "class Bird:\n",
    "    def intro(self):\n",
    "        print(\"There are many types of birds.\")\n",
    "\n",
    "    def flight(self):\n",
    "        print(\"Most of the birds can fly but some cannot.\")\n",
    "\n",
    "class Sparrow(Bird):\n",
    "    def flight(self):\n",
    "        print(\"Sparrows can fly.\")\n",
    "\n",
    "class Ostrich(Bird):\n",
    "    def flight(self):\n",
    "        print(\"Ostriches cannot fly.\")\n",
    "\n",
    "obj_bird = Bird()\n",
    "obj_spr = Sparrow()\n",
    "obj_ost = Ostrich()\n",
    "\n",
    "obj_bird.intro()\n",
    "obj_bird.flight()\n",
    "\n",
    "obj_spr.intro()\n",
    "obj_spr.flight()\n",
    "\n",
    "obj_ost.intro()\n",
    "obj_ost.flight()\n"
   ]
  }
 ],
 "metadata": {
  "kernelspec": {
   "display_name": "Python 3",
   "language": "python",
   "name": "python3"
  },
  "language_info": {
   "codemirror_mode": {
    "name": "ipython",
    "version": 3
   },
   "file_extension": ".py",
   "mimetype": "text/x-python",
   "name": "python",
   "nbconvert_exporter": "python",
   "pygments_lexer": "ipython3",
   "version": "3.13.1"
  }
 },
 "nbformat": 4,
 "nbformat_minor": 5
}
