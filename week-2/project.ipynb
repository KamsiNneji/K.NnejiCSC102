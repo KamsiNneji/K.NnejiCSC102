{
 "cells": [
  {
   "cell_type": "code",
   "execution_count": null,
   "metadata": {},
   "outputs": [],
   "source": [
    "first_name = input('What is your name user 1: ')\n",
    "second_name = input('What is your name user 2: ')\n",
    "\n",
    "first_age = input('What is your age user 1: ')\n",
    "second_age = input('What is your age user 2: ')\n",
    "\n",
    "temp = second_age\n",
    "second_age = first_age\n",
    "first_age = temp\n",
    "\n",
    "print(f\"I am {first_name} and I am {first_age}\")\n",
    "print(f\"I am {second_name} and I am {second_age}\")\n",
    "\n"
   ]
  },
  {
   "cell_type": "code",
   "execution_count": 2,
   "metadata": {},
   "outputs": [
    {
     "ename": "ModuleNotFoundError",
     "evalue": "No module named 'sympy'",
     "output_type": "error",
     "traceback": [
      "\u001b[31m---------------------------------------------------------------------------\u001b[39m",
      "\u001b[31mModuleNotFoundError\u001b[39m                       Traceback (most recent call last)",
      "\u001b[36mCell\u001b[39m\u001b[36m \u001b[39m\u001b[32mIn[2]\u001b[39m\u001b[32m, line 1\u001b[39m\n\u001b[32m----> \u001b[39m\u001b[32m1\u001b[39m \u001b[38;5;28;01mimport\u001b[39;00m\u001b[38;5;250m \u001b[39m\u001b[34;01msympy\u001b[39;00m\u001b[38;5;250m \u001b[39m\u001b[38;5;28;01mas\u001b[39;00m\u001b[38;5;250m \u001b[39m\u001b[34;01msp\u001b[39;00m\n\u001b[32m      3\u001b[39m \u001b[38;5;28;01mdef\u001b[39;00m\u001b[38;5;250m \u001b[39m\u001b[34mfind_roots\u001b[39m():\n\u001b[32m      4\u001b[39m     \u001b[38;5;28mprint\u001b[39m(\u001b[33m\"\u001b[39m\u001b[33mSelect the type of equation to solve:\u001b[39m\u001b[33m\"\u001b[39m)\n",
      "\u001b[31mModuleNotFoundError\u001b[39m: No module named 'sympy'"
     ]
    }
   ],
   "source": [
    "import sympy as sp\n",
    "\n",
    "def find_roots():\n",
    "    print(\"Select the type of equation to solve:\")\n",
    "    print(\"1. Cubic Equation (Ax^3 + Bx^2 + Cx + D = 0)\")\n",
    "    print(\"2. Quartic Equation (Ax^4 + Bx^3 + Cx^2 + Dx + E = 0)\")\n",
    "    print(\"3. Quadratic Equation (ax^2 + bx + c = 0)\")\n",
    "    \n",
    "    choice = input(\"Enter your choice (1/2/3): \")\n",
    "\n",
    "    if choice == \"1\":\n",
    "        print(\"Cubic Equation: Ax^3 + Bx^2 + Cx + D = 0\")\n",
    "        A = float(input(\"Enter coefficient A: \"))\n",
    "        B = float(input(\"Enter coefficient B: \"))\n",
    "        C = float(input(\"Enter coefficient C: \"))\n",
    "        D = float(input(\"Enter coefficient D: \"))\n",
    "        x = sp.symbols('x')\n",
    "        equation = A*x**3 + B*x**2 + C*x + D\n",
    "        roots = sp.solve(equation, x)\n",
    "        print(\"The roots of the cubic equation are:\", roots)\n",
    "\n",
    "    elif choice == \"2\":\n",
    "        print(\"Quartic Equation: Ax^4 + Bx^3 + Cx^2 + Dx + E = 0\")\n",
    "        A = float(input(\"Enter coefficient A: \"))\n",
    "        B = float(input(\"Enter coefficient B: \"))\n",
    "        C = float(input(\"Enter coefficient C: \"))\n",
    "        D = float(input(\"Enter coefficient D: \"))\n",
    "        E = float(input(\"Enter coefficient E: \"))\n",
    "        x = sp.symbols('x')\n",
    "        equation = A*x**4 + B*x**3 + C*x**2 + D*x + E\n",
    "        roots = sp.solve(equation, x)\n",
    "        print(\"The roots of the quartic equation are:\", roots)\n",
    "\n",
    "    elif choice == \"3\":\n",
    "        print(\"Quadratic Equation: ax^2 + bx + c = 0\")\n",
    "        a = float(input(\"Enter coefficient a: \"))\n",
    "        b = float(input(\"Enter coefficient b: \"))\n",
    "        c = float(input(\"Enter coefficient c: \"))\n",
    "        discriminant = b**2 - 4*a*c\n",
    "\n",
    "        if discriminant >= 0:\n",
    "            root1 = (-b + sp.sqrt(discriminant)) / (2*a)\n",
    "            root2 = (-b - sp.sqrt(discriminant)) / (2*a)\n",
    "            print(\"The roots of the quadratic equation are:\", root1, root2)\n",
    "        else:\n",
    "            print(\"The quadratic equation has complex roots.\")\n",
    "\n",
    "    else:\n",
    "        print(\"Invalid choice. Please select 1, 2, or 3.\")\n",
    "\n",
    "find_roots()\n"
   ]
  }
 ],
 "metadata": {
  "kernelspec": {
   "display_name": "Python 3",
   "language": "python",
   "name": "python3"
  },
  "language_info": {
   "codemirror_mode": {
    "name": "ipython",
    "version": 3
   },
   "file_extension": ".py",
   "mimetype": "text/x-python",
   "name": "python",
   "nbconvert_exporter": "python",
   "pygments_lexer": "ipython3",
   "version": "3.13.1"
  }
 },
 "nbformat": 4,
 "nbformat_minor": 2
}
